{
 "cells": [
  {
   "cell_type": "code",
   "execution_count": 1,
   "id": "e72ee69e-3bd3-4648-a0cf-7066776cb54c",
   "metadata": {},
   "outputs": [],
   "source": [
    "number=list (range(1,26))"
   ]
  },
  {
   "cell_type": "code",
   "execution_count": 2,
   "id": "2f00ed01-929e-4ffc-9dbb-3e60c58c72e4",
   "metadata": {},
   "outputs": [
    {
     "ename": "NameError",
     "evalue": "name 'reduce' is not defined",
     "output_type": "error",
     "traceback": [
      "\u001b[0;31m---------------------------------------------------------------------------\u001b[0m",
      "\u001b[0;31mNameError\u001b[0m                                 Traceback (most recent call last)",
      "Cell \u001b[0;32mIn[2], line 1\u001b[0m\n\u001b[0;32m----> 1\u001b[0m product\u001b[38;5;241m=\u001b[39m\u001b[43mreduce\u001b[49m(\u001b[38;5;28;01mlambda\u001b[39;00m a,b: a\u001b[38;5;241m*\u001b[39mb, l)\n\u001b[1;32m      2\u001b[0m \u001b[38;5;28mprint\u001b[39m(product)\n",
      "\u001b[0;31mNameError\u001b[0m: name 'reduce' is not defined"
     ]
    }
   ],
   "source": [
    "product=reduce(lambda a,b: a*b, l)\n",
    "print(product)"
   ]
  },
  {
   "cell_type": "code",
   "execution_count": null,
   "id": "c30778b6-ff9f-411c-85e9-393d90a94816",
   "metadata": {},
   "outputs": [],
   "source": []
  }
 ],
 "metadata": {
  "kernelspec": {
   "display_name": "Python 3 (ipykernel)",
   "language": "python",
   "name": "python3"
  },
  "language_info": {
   "codemirror_mode": {
    "name": "ipython",
    "version": 3
   },
   "file_extension": ".py",
   "mimetype": "text/x-python",
   "name": "python",
   "nbconvert_exporter": "python",
   "pygments_lexer": "ipython3",
   "version": "3.10.8"
  }
 },
 "nbformat": 4,
 "nbformat_minor": 5
}
